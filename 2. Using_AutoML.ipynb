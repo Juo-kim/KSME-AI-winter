{
 "cells": [
  {
   "cell_type": "code",
   "execution_count": 24,
   "id": "bc99bfb4",
   "metadata": {},
   "outputs": [],
   "source": [
    "# Python ≥3.5 is required\n",
    "import sys\n",
    "assert sys.version_info >= (3, 5)\n",
    "\n",
    "# Scikit-Learn ≥0.20 is required\n",
    "import sklearn\n",
    "assert sklearn.__version__ >= \"0.20\"\n",
    "\n",
    "# Common imports\n",
    "import numpy as np\n",
    "import os\n",
    "import pandas as pd\n",
    "\n",
    "# To plot pretty figures\n",
    "%matplotlib inline\n",
    "import matplotlib as mpl\n",
    "import matplotlib.pyplot as plt"
   ]
  },
  {
   "cell_type": "code",
   "execution_count": 25,
   "id": "972c8bfa",
   "metadata": {},
   "outputs": [],
   "source": [
    "split_file_paths = ['https://raw.githubusercontent.com/Juo-kim/KSME-AI-winter/main/MP_bandgap_part_1.csv',\n",
    " 'https://raw.githubusercontent.com/Juo-kim/KSME-AI-winter/main/MP_bandgap_part_2.csv',\n",
    " 'https://raw.githubusercontent.com/Juo-kim/KSME-AI-winter/main/MP_bandgap_part_3.csv',\n",
    " 'https://raw.githubusercontent.com/Juo-kim/KSME-AI-winter/main/MP_bandgap_part_4.csv',\n",
    " 'https://raw.githubusercontent.com/Juo-kim/KSME-AI-winter/main/MP_bandgap_part_5.csv',\n",
    " 'https://raw.githubusercontent.com/Juo-kim/KSME-AI-winter/main/MP_bandgap_part_6.csv',\n",
    " 'https://raw.githubusercontent.com/Juo-kim/KSME-AI-winter/main/MP_bandgap_part_7.csv',\n",
    " 'https://raw.githubusercontent.com/Juo-kim/KSME-AI-winter/main/MP_bandgap_part_8.csv',\n",
    " 'https://raw.githubusercontent.com/Juo-kim/KSME-AI-winter/main/MP_bandgap_part_9.csv',\n",
    " 'https://raw.githubusercontent.com/Juo-kim/KSME-AI-winter/main/MP_bandgap_part_10.csv']\n",
    "\n",
    "MP_bandgap = pd.concat([pd.read_csv(file) for file in split_file_paths])"
   ]
  },
  {
   "cell_type": "code",
   "execution_count": 26,
   "id": "b511a7f0",
   "metadata": {},
   "outputs": [],
   "source": [
    "MP_bandgap.drop(['Index', 'Formula', 'mp-id', 'nsites', 'spacegroup_number'], axis=1, inplace = True)"
   ]
  },
  {
   "cell_type": "code",
   "execution_count": 27,
   "id": "378fcf2f",
   "metadata": {},
   "outputs": [],
   "source": [
    "from sklearn.model_selection import train_test_split\n",
    "\n",
    "train, test = train_test_split(MP_bandgap, test_size=0.2, random_state=0)"
   ]
  },
  {
   "cell_type": "code",
   "execution_count": 28,
   "id": "0a912275",
   "metadata": {},
   "outputs": [],
   "source": [
    "from pycaret.regression import *"
   ]
  },
  {
   "cell_type": "code",
   "execution_count": 29,
   "id": "95d6a926",
   "metadata": {},
   "outputs": [
    {
     "data": {
      "text/html": [
       "<style type=\"text/css\">\n",
       "#T_fc09d_row9_col1 {\n",
       "  background-color: lightgreen;\n",
       "}\n",
       "</style>\n",
       "<table id=\"T_fc09d\">\n",
       "  <thead>\n",
       "    <tr>\n",
       "      <th class=\"blank level0\" >&nbsp;</th>\n",
       "      <th id=\"T_fc09d_level0_col0\" class=\"col_heading level0 col0\" >Description</th>\n",
       "      <th id=\"T_fc09d_level0_col1\" class=\"col_heading level0 col1\" >Value</th>\n",
       "    </tr>\n",
       "  </thead>\n",
       "  <tbody>\n",
       "    <tr>\n",
       "      <th id=\"T_fc09d_level0_row0\" class=\"row_heading level0 row0\" >0</th>\n",
       "      <td id=\"T_fc09d_row0_col0\" class=\"data row0 col0\" >Session id</td>\n",
       "      <td id=\"T_fc09d_row0_col1\" class=\"data row0 col1\" >0</td>\n",
       "    </tr>\n",
       "    <tr>\n",
       "      <th id=\"T_fc09d_level0_row1\" class=\"row_heading level0 row1\" >1</th>\n",
       "      <td id=\"T_fc09d_row1_col0\" class=\"data row1 col0\" >Target</td>\n",
       "      <td id=\"T_fc09d_row1_col1\" class=\"data row1 col1\" >bandgap</td>\n",
       "    </tr>\n",
       "    <tr>\n",
       "      <th id=\"T_fc09d_level0_row2\" class=\"row_heading level0 row2\" >2</th>\n",
       "      <td id=\"T_fc09d_row2_col0\" class=\"data row2 col0\" >Target type</td>\n",
       "      <td id=\"T_fc09d_row2_col1\" class=\"data row2 col1\" >Regression</td>\n",
       "    </tr>\n",
       "    <tr>\n",
       "      <th id=\"T_fc09d_level0_row3\" class=\"row_heading level0 row3\" >3</th>\n",
       "      <td id=\"T_fc09d_row3_col0\" class=\"data row3 col0\" >Original data shape</td>\n",
       "      <td id=\"T_fc09d_row3_col1\" class=\"data row3 col1\" >(1014840, 146)</td>\n",
       "    </tr>\n",
       "    <tr>\n",
       "      <th id=\"T_fc09d_level0_row4\" class=\"row_heading level0 row4\" >4</th>\n",
       "      <td id=\"T_fc09d_row4_col0\" class=\"data row4 col0\" >Transformed data shape</td>\n",
       "      <td id=\"T_fc09d_row4_col1\" class=\"data row4 col1\" >(1014840, 146)</td>\n",
       "    </tr>\n",
       "    <tr>\n",
       "      <th id=\"T_fc09d_level0_row5\" class=\"row_heading level0 row5\" >5</th>\n",
       "      <td id=\"T_fc09d_row5_col0\" class=\"data row5 col0\" >Transformed train set shape</td>\n",
       "      <td id=\"T_fc09d_row5_col1\" class=\"data row5 col1\" >(710388, 146)</td>\n",
       "    </tr>\n",
       "    <tr>\n",
       "      <th id=\"T_fc09d_level0_row6\" class=\"row_heading level0 row6\" >6</th>\n",
       "      <td id=\"T_fc09d_row6_col0\" class=\"data row6 col0\" >Transformed test set shape</td>\n",
       "      <td id=\"T_fc09d_row6_col1\" class=\"data row6 col1\" >(304452, 146)</td>\n",
       "    </tr>\n",
       "    <tr>\n",
       "      <th id=\"T_fc09d_level0_row7\" class=\"row_heading level0 row7\" >7</th>\n",
       "      <td id=\"T_fc09d_row7_col0\" class=\"data row7 col0\" >Numeric features</td>\n",
       "      <td id=\"T_fc09d_row7_col1\" class=\"data row7 col1\" >145</td>\n",
       "    </tr>\n",
       "    <tr>\n",
       "      <th id=\"T_fc09d_level0_row8\" class=\"row_heading level0 row8\" >8</th>\n",
       "      <td id=\"T_fc09d_row8_col0\" class=\"data row8 col0\" >Rows with missing values</td>\n",
       "      <td id=\"T_fc09d_row8_col1\" class=\"data row8 col1\" >0.0%</td>\n",
       "    </tr>\n",
       "    <tr>\n",
       "      <th id=\"T_fc09d_level0_row9\" class=\"row_heading level0 row9\" >9</th>\n",
       "      <td id=\"T_fc09d_row9_col0\" class=\"data row9 col0\" >Preprocess</td>\n",
       "      <td id=\"T_fc09d_row9_col1\" class=\"data row9 col1\" >True</td>\n",
       "    </tr>\n",
       "    <tr>\n",
       "      <th id=\"T_fc09d_level0_row10\" class=\"row_heading level0 row10\" >10</th>\n",
       "      <td id=\"T_fc09d_row10_col0\" class=\"data row10 col0\" >Imputation type</td>\n",
       "      <td id=\"T_fc09d_row10_col1\" class=\"data row10 col1\" >simple</td>\n",
       "    </tr>\n",
       "    <tr>\n",
       "      <th id=\"T_fc09d_level0_row11\" class=\"row_heading level0 row11\" >11</th>\n",
       "      <td id=\"T_fc09d_row11_col0\" class=\"data row11 col0\" >Numeric imputation</td>\n",
       "      <td id=\"T_fc09d_row11_col1\" class=\"data row11 col1\" >mean</td>\n",
       "    </tr>\n",
       "    <tr>\n",
       "      <th id=\"T_fc09d_level0_row12\" class=\"row_heading level0 row12\" >12</th>\n",
       "      <td id=\"T_fc09d_row12_col0\" class=\"data row12 col0\" >Categorical imputation</td>\n",
       "      <td id=\"T_fc09d_row12_col1\" class=\"data row12 col1\" >mode</td>\n",
       "    </tr>\n",
       "    <tr>\n",
       "      <th id=\"T_fc09d_level0_row13\" class=\"row_heading level0 row13\" >13</th>\n",
       "      <td id=\"T_fc09d_row13_col0\" class=\"data row13 col0\" >Fold Generator</td>\n",
       "      <td id=\"T_fc09d_row13_col1\" class=\"data row13 col1\" >KFold</td>\n",
       "    </tr>\n",
       "    <tr>\n",
       "      <th id=\"T_fc09d_level0_row14\" class=\"row_heading level0 row14\" >14</th>\n",
       "      <td id=\"T_fc09d_row14_col0\" class=\"data row14 col0\" >Fold Number</td>\n",
       "      <td id=\"T_fc09d_row14_col1\" class=\"data row14 col1\" >10</td>\n",
       "    </tr>\n",
       "    <tr>\n",
       "      <th id=\"T_fc09d_level0_row15\" class=\"row_heading level0 row15\" >15</th>\n",
       "      <td id=\"T_fc09d_row15_col0\" class=\"data row15 col0\" >CPU Jobs</td>\n",
       "      <td id=\"T_fc09d_row15_col1\" class=\"data row15 col1\" >-1</td>\n",
       "    </tr>\n",
       "    <tr>\n",
       "      <th id=\"T_fc09d_level0_row16\" class=\"row_heading level0 row16\" >16</th>\n",
       "      <td id=\"T_fc09d_row16_col0\" class=\"data row16 col0\" >Use GPU</td>\n",
       "      <td id=\"T_fc09d_row16_col1\" class=\"data row16 col1\" >False</td>\n",
       "    </tr>\n",
       "    <tr>\n",
       "      <th id=\"T_fc09d_level0_row17\" class=\"row_heading level0 row17\" >17</th>\n",
       "      <td id=\"T_fc09d_row17_col0\" class=\"data row17 col0\" >Log Experiment</td>\n",
       "      <td id=\"T_fc09d_row17_col1\" class=\"data row17 col1\" >False</td>\n",
       "    </tr>\n",
       "    <tr>\n",
       "      <th id=\"T_fc09d_level0_row18\" class=\"row_heading level0 row18\" >18</th>\n",
       "      <td id=\"T_fc09d_row18_col0\" class=\"data row18 col0\" >Experiment Name</td>\n",
       "      <td id=\"T_fc09d_row18_col1\" class=\"data row18 col1\" >reg-default-name</td>\n",
       "    </tr>\n",
       "    <tr>\n",
       "      <th id=\"T_fc09d_level0_row19\" class=\"row_heading level0 row19\" >19</th>\n",
       "      <td id=\"T_fc09d_row19_col0\" class=\"data row19 col0\" >USI</td>\n",
       "      <td id=\"T_fc09d_row19_col1\" class=\"data row19 col1\" >de60</td>\n",
       "    </tr>\n",
       "  </tbody>\n",
       "</table>\n"
      ],
      "text/plain": [
       "<pandas.io.formats.style.Styler at 0x167ca66d0>"
      ]
     },
     "metadata": {},
     "output_type": "display_data"
    }
   ],
   "source": [
    "s = setup(train, target='bandgap', session_id = 0, index=False, n_jobs = -1)"
   ]
  },
  {
   "cell_type": "code",
   "execution_count": 30,
   "id": "24ff5c50",
   "metadata": {
    "scrolled": true
   },
   "outputs": [
    {
     "data": {
      "text/html": [],
      "text/plain": [
       "<IPython.core.display.HTML object>"
      ]
     },
     "metadata": {},
     "output_type": "display_data"
    },
    {
     "data": {
      "text/html": [
       "<style type=\"text/css\">\n",
       "#T_1cd5d th {\n",
       "  text-align: left;\n",
       "}\n",
       "#T_1cd5d_row0_col0, #T_1cd5d_row0_col6, #T_1cd5d_row1_col0, #T_1cd5d_row1_col1, #T_1cd5d_row1_col2, #T_1cd5d_row1_col3, #T_1cd5d_row1_col4, #T_1cd5d_row1_col5 {\n",
       "  text-align: left;\n",
       "}\n",
       "#T_1cd5d_row0_col1, #T_1cd5d_row0_col2, #T_1cd5d_row0_col3, #T_1cd5d_row0_col4, #T_1cd5d_row0_col5, #T_1cd5d_row1_col6 {\n",
       "  text-align: left;\n",
       "  background-color: yellow;\n",
       "}\n",
       "#T_1cd5d_row0_col7 {\n",
       "  text-align: left;\n",
       "  background-color: yellow;\n",
       "  background-color: lightgrey;\n",
       "}\n",
       "#T_1cd5d_row1_col7 {\n",
       "  text-align: left;\n",
       "  background-color: lightgrey;\n",
       "}\n",
       "</style>\n",
       "<table id=\"T_1cd5d\">\n",
       "  <thead>\n",
       "    <tr>\n",
       "      <th class=\"blank level0\" >&nbsp;</th>\n",
       "      <th id=\"T_1cd5d_level0_col0\" class=\"col_heading level0 col0\" >Model</th>\n",
       "      <th id=\"T_1cd5d_level0_col1\" class=\"col_heading level0 col1\" >MAE</th>\n",
       "      <th id=\"T_1cd5d_level0_col2\" class=\"col_heading level0 col2\" >MSE</th>\n",
       "      <th id=\"T_1cd5d_level0_col3\" class=\"col_heading level0 col3\" >RMSE</th>\n",
       "      <th id=\"T_1cd5d_level0_col4\" class=\"col_heading level0 col4\" >R2</th>\n",
       "      <th id=\"T_1cd5d_level0_col5\" class=\"col_heading level0 col5\" >RMSLE</th>\n",
       "      <th id=\"T_1cd5d_level0_col6\" class=\"col_heading level0 col6\" >MAPE</th>\n",
       "      <th id=\"T_1cd5d_level0_col7\" class=\"col_heading level0 col7\" >TT (Sec)</th>\n",
       "    </tr>\n",
       "  </thead>\n",
       "  <tbody>\n",
       "    <tr>\n",
       "      <th id=\"T_1cd5d_level0_row0\" class=\"row_heading level0 row0\" >lr</th>\n",
       "      <td id=\"T_1cd5d_row0_col0\" class=\"data row0 col0\" >Linear Regression</td>\n",
       "      <td id=\"T_1cd5d_row0_col1\" class=\"data row0 col1\" >1.2087</td>\n",
       "      <td id=\"T_1cd5d_row0_col2\" class=\"data row0 col2\" >2.2438</td>\n",
       "      <td id=\"T_1cd5d_row0_col3\" class=\"data row0 col3\" >1.4979</td>\n",
       "      <td id=\"T_1cd5d_row0_col4\" class=\"data row0 col4\" >0.0066</td>\n",
       "      <td id=\"T_1cd5d_row0_col5\" class=\"data row0 col5\" >0.6495</td>\n",
       "      <td id=\"T_1cd5d_row0_col6\" class=\"data row0 col6\" >14.2120</td>\n",
       "      <td id=\"T_1cd5d_row0_col7\" class=\"data row0 col7\" >4.7100</td>\n",
       "    </tr>\n",
       "    <tr>\n",
       "      <th id=\"T_1cd5d_level0_row1\" class=\"row_heading level0 row1\" >dt</th>\n",
       "      <td id=\"T_1cd5d_row1_col0\" class=\"data row1 col0\" >Decision Tree Regressor</td>\n",
       "      <td id=\"T_1cd5d_row1_col1\" class=\"data row1 col1\" >1.2548</td>\n",
       "      <td id=\"T_1cd5d_row1_col2\" class=\"data row1 col2\" >2.5944</td>\n",
       "      <td id=\"T_1cd5d_row1_col3\" class=\"data row1 col3\" >1.6107</td>\n",
       "      <td id=\"T_1cd5d_row1_col4\" class=\"data row1 col4\" >-0.1486</td>\n",
       "      <td id=\"T_1cd5d_row1_col5\" class=\"data row1 col5\" >0.6997</td>\n",
       "      <td id=\"T_1cd5d_row1_col6\" class=\"data row1 col6\" >13.8090</td>\n",
       "      <td id=\"T_1cd5d_row1_col7\" class=\"data row1 col7\" >55.2800</td>\n",
       "    </tr>\n",
       "  </tbody>\n",
       "</table>\n"
      ],
      "text/plain": [
       "<pandas.io.formats.style.Styler at 0x1100aad90>"
      ]
     },
     "metadata": {},
     "output_type": "display_data"
    },
    {
     "data": {
      "text/html": [],
      "text/plain": [
       "<IPython.core.display.HTML object>"
      ]
     },
     "metadata": {},
     "output_type": "display_data"
    }
   ],
   "source": [
    "best = compare_models(include = ['lr', 'dt'], cross_validation=False)"
   ]
  },
  {
   "cell_type": "code",
   "execution_count": 31,
   "id": "1c6537d7",
   "metadata": {},
   "outputs": [
    {
     "data": {
      "application/vnd.jupyter.widget-view+json": {
       "model_id": "b5dd8474bed14c21a53294af9dbebfa0",
       "version_major": 2,
       "version_minor": 0
      },
      "text/plain": [
       "interactive(children=(ToggleButtons(description='Plot Type:', icons=('',), options=(('Pipeline Plot', 'pipelin…"
      ]
     },
     "metadata": {},
     "output_type": "display_data"
    }
   ],
   "source": [
    "evaluate_model(best)"
   ]
  },
  {
   "cell_type": "code",
   "execution_count": 32,
   "id": "20d4d183",
   "metadata": {},
   "outputs": [
    {
     "data": {
      "text/html": [],
      "text/plain": [
       "<IPython.core.display.HTML object>"
      ]
     },
     "metadata": {},
     "output_type": "display_data"
    },
    {
     "data": {
      "image/png": "[encoded data removed]",
      "text/plain": [
       "<Figure size 800x550 with 2 Axes>"
      ]
     },
     "metadata": {},
     "output_type": "display_data"
    }
   ],
   "source": [
    "plot_model(best, plot='residuals')"
   ]
  },
  {
   "cell_type": "code",
   "execution_count": 33,
   "id": "afeb1870",
   "metadata": {},
   "outputs": [
    {
     "data": {
      "text/html": [],
      "text/plain": [
       "<IPython.core.display.HTML object>"
      ]
     },
     "metadata": {},
     "output_type": "display_data"
    },
    {
     "data": {
      "image/png": "[encoded data removed]",
      "text/plain": [
       "<Figure size 800x500 with 1 Axes>"
      ]
     },
     "metadata": {},
     "output_type": "display_data"
    }
   ],
   "source": [
    "plot_model(best, plot = 'feature')"
   ]
  },
  {
   "cell_type": "markdown",
   "id": "a841bf13",
   "metadata": {},
   "source": [
    "### Save model"
   ]
  },
  {
   "cell_type": "code",
   "execution_count": 34,
   "id": "9eb14ae9",
   "metadata": {},
   "outputs": [
    {
     "name": "stdout",
     "output_type": "stream",
     "text": [
      "Transformation Pipeline and Model Successfully Saved\n"
     ]
    },
    {
     "data": {
      "text/plain": [
       "(Pipeline(memory=FastMemory(location=/var/folders/6f/6_lc9cgj1_qgzwkbr1txp5j00000gn/T/joblib),\n",
       "          steps=[('numerical_imputer',\n",
       "                  TransformerWrapper(include=['NComp', 'Comp_L2Norm',\n",
       "                                              'Comp_L3Norm', 'Comp_L5Norm',\n",
       "                                              'Comp_L7Norm', 'Comp_L10Norm',\n",
       "                                              'mean_Number', 'maxdiff_Number',\n",
       "                                              'dev_Number', 'max_Number',\n",
       "                                              'min_Number', 'most_Number',\n",
       "                                              'mean_MendeleevNumber',\n",
       "                                              'maxdiff_Mendel...\n",
       "                                              'dev_AtomicWeight',\n",
       "                                              'max_AtomicWeight',\n",
       "                                              'min_AtomicWeight',\n",
       "                                              'most_AtomicWeight',\n",
       "                                              'mean_MeltingT',\n",
       "                                              'maxdiff_MeltingT', 'dev_MeltingT',\n",
       "                                              'max_MeltingT', 'min_MeltingT',\n",
       "                                              'most_MeltingT', ...],\n",
       "                                     transformer=SimpleImputer())),\n",
       "                 ('categorical_imputer',\n",
       "                  TransformerWrapper(include=[],\n",
       "                                     transformer=SimpleImputer(strategy='most_frequent'))),\n",
       "                 ('trained_model', LinearRegression(n_jobs=-1))]),\n",
       " 'best_model.pkl')"
      ]
     },
     "execution_count": 34,
     "metadata": {},
     "output_type": "execute_result"
    }
   ],
   "source": [
    "save_model(best, 'best_model')"
   ]
  },
  {
   "cell_type": "code",
   "execution_count": 35,
   "id": "ec7d8f7b",
   "metadata": {},
   "outputs": [
    {
     "name": "stdout",
     "output_type": "stream",
     "text": [
      "Transformation Pipeline and Model Successfully Loaded\n"
     ]
    }
   ],
   "source": [
    "### Load_model\n",
    "loaded_model = load_model('best_model')"
   ]
  },
  {
   "cell_type": "code",
   "execution_count": 36,
   "id": "eac98eb3",
   "metadata": {
    "scrolled": true
   },
   "outputs": [
    {
     "data": {
      "text/html": [],
      "text/plain": [
       "<IPython.core.display.HTML object>"
      ]
     },
     "metadata": {},
     "output_type": "display_data"
    },
    {
     "data": {
      "text/html": [
       "<style type=\"text/css\">\n",
       "#T_48513_row10_col0, #T_48513_row10_col1, #T_48513_row10_col2, #T_48513_row10_col3, #T_48513_row10_col4, #T_48513_row10_col5 {\n",
       "  background: yellow;\n",
       "}\n",
       "</style>\n",
       "<table id=\"T_48513\">\n",
       "  <thead>\n",
       "    <tr>\n",
       "      <th class=\"blank level0\" >&nbsp;</th>\n",
       "      <th id=\"T_48513_level0_col0\" class=\"col_heading level0 col0\" >MAE</th>\n",
       "      <th id=\"T_48513_level0_col1\" class=\"col_heading level0 col1\" >MSE</th>\n",
       "      <th id=\"T_48513_level0_col2\" class=\"col_heading level0 col2\" >RMSE</th>\n",
       "      <th id=\"T_48513_level0_col3\" class=\"col_heading level0 col3\" >R2</th>\n",
       "      <th id=\"T_48513_level0_col4\" class=\"col_heading level0 col4\" >RMSLE</th>\n",
       "      <th id=\"T_48513_level0_col5\" class=\"col_heading level0 col5\" >MAPE</th>\n",
       "    </tr>\n",
       "    <tr>\n",
       "      <th class=\"index_name level0\" >Fold</th>\n",
       "      <th class=\"blank col0\" >&nbsp;</th>\n",
       "      <th class=\"blank col1\" >&nbsp;</th>\n",
       "      <th class=\"blank col2\" >&nbsp;</th>\n",
       "      <th class=\"blank col3\" >&nbsp;</th>\n",
       "      <th class=\"blank col4\" >&nbsp;</th>\n",
       "      <th class=\"blank col5\" >&nbsp;</th>\n",
       "    </tr>\n",
       "  </thead>\n",
       "  <tbody>\n",
       "    <tr>\n",
       "      <th id=\"T_48513_level0_row0\" class=\"row_heading level0 row0\" >0</th>\n",
       "      <td id=\"T_48513_row0_col0\" class=\"data row0 col0\" >1.2047</td>\n",
       "      <td id=\"T_48513_row0_col1\" class=\"data row0 col1\" >2.2212</td>\n",
       "      <td id=\"T_48513_row0_col2\" class=\"data row0 col2\" >1.4904</td>\n",
       "      <td id=\"T_48513_row0_col3\" class=\"data row0 col3\" >0.0070</td>\n",
       "      <td id=\"T_48513_row0_col4\" class=\"data row0 col4\" >0.6497</td>\n",
       "      <td id=\"T_48513_row0_col5\" class=\"data row0 col5\" >15.6965</td>\n",
       "    </tr>\n",
       "    <tr>\n",
       "      <th id=\"T_48513_level0_row1\" class=\"row_heading level0 row1\" >1</th>\n",
       "      <td id=\"T_48513_row1_col0\" class=\"data row1 col0\" >1.2127</td>\n",
       "      <td id=\"T_48513_row1_col1\" class=\"data row1 col1\" >2.2740</td>\n",
       "      <td id=\"T_48513_row1_col2\" class=\"data row1 col2\" >1.5080</td>\n",
       "      <td id=\"T_48513_row1_col3\" class=\"data row1 col3\" >0.0064</td>\n",
       "      <td id=\"T_48513_row1_col4\" class=\"data row1 col4\" >0.6507</td>\n",
       "      <td id=\"T_48513_row1_col5\" class=\"data row1 col5\" >13.9903</td>\n",
       "    </tr>\n",
       "    <tr>\n",
       "      <th id=\"T_48513_level0_row2\" class=\"row_heading level0 row2\" >2</th>\n",
       "      <td id=\"T_48513_row2_col0\" class=\"data row2 col0\" >1.2129</td>\n",
       "      <td id=\"T_48513_row2_col1\" class=\"data row2 col1\" >2.2705</td>\n",
       "      <td id=\"T_48513_row2_col2\" class=\"data row2 col2\" >1.5068</td>\n",
       "      <td id=\"T_48513_row2_col3\" class=\"data row2 col3\" >0.0073</td>\n",
       "      <td id=\"T_48513_row2_col4\" class=\"data row2 col4\" >0.6507</td>\n",
       "      <td id=\"T_48513_row2_col5\" class=\"data row2 col5\" >17.1214</td>\n",
       "    </tr>\n",
       "    <tr>\n",
       "      <th id=\"T_48513_level0_row3\" class=\"row_heading level0 row3\" >3</th>\n",
       "      <td id=\"T_48513_row3_col0\" class=\"data row3 col0\" >1.2079</td>\n",
       "      <td id=\"T_48513_row3_col1\" class=\"data row3 col1\" >2.2410</td>\n",
       "      <td id=\"T_48513_row3_col2\" class=\"data row3 col2\" >1.4970</td>\n",
       "      <td id=\"T_48513_row3_col3\" class=\"data row3 col3\" >0.0085</td>\n",
       "      <td id=\"T_48513_row3_col4\" class=\"data row3 col4\" >0.6495</td>\n",
       "      <td id=\"T_48513_row3_col5\" class=\"data row3 col5\" >15.0432</td>\n",
       "    </tr>\n",
       "    <tr>\n",
       "      <th id=\"T_48513_level0_row4\" class=\"row_heading level0 row4\" >4</th>\n",
       "      <td id=\"T_48513_row4_col0\" class=\"data row4 col0\" >1.2027</td>\n",
       "      <td id=\"T_48513_row4_col1\" class=\"data row4 col1\" >2.2133</td>\n",
       "      <td id=\"T_48513_row4_col2\" class=\"data row4 col2\" >1.4877</td>\n",
       "      <td id=\"T_48513_row4_col3\" class=\"data row4 col3\" >0.0067</td>\n",
       "      <td id=\"T_48513_row4_col4\" class=\"data row4 col4\" >0.6489</td>\n",
       "      <td id=\"T_48513_row4_col5\" class=\"data row4 col5\" >16.1797</td>\n",
       "    </tr>\n",
       "    <tr>\n",
       "      <th id=\"T_48513_level0_row5\" class=\"row_heading level0 row5\" >5</th>\n",
       "      <td id=\"T_48513_row5_col0\" class=\"data row5 col0\" >1.2056</td>\n",
       "      <td id=\"T_48513_row5_col1\" class=\"data row5 col1\" >2.2369</td>\n",
       "      <td id=\"T_48513_row5_col2\" class=\"data row5 col2\" >1.4956</td>\n",
       "      <td id=\"T_48513_row5_col3\" class=\"data row5 col3\" >0.0071</td>\n",
       "      <td id=\"T_48513_row5_col4\" class=\"data row5 col4\" >0.6493</td>\n",
       "      <td id=\"T_48513_row5_col5\" class=\"data row5 col5\" >13.8922</td>\n",
       "    </tr>\n",
       "    <tr>\n",
       "      <th id=\"T_48513_level0_row6\" class=\"row_heading level0 row6\" >6</th>\n",
       "      <td id=\"T_48513_row6_col0\" class=\"data row6 col0\" >1.2090</td>\n",
       "      <td id=\"T_48513_row6_col1\" class=\"data row6 col1\" >2.2512</td>\n",
       "      <td id=\"T_48513_row6_col2\" class=\"data row6 col2\" >1.5004</td>\n",
       "      <td id=\"T_48513_row6_col3\" class=\"data row6 col3\" >0.0064</td>\n",
       "      <td id=\"T_48513_row6_col4\" class=\"data row6 col4\" >0.6493</td>\n",
       "      <td id=\"T_48513_row6_col5\" class=\"data row6 col5\" >14.1212</td>\n",
       "    </tr>\n",
       "    <tr>\n",
       "      <th id=\"T_48513_level0_row7\" class=\"row_heading level0 row7\" >7</th>\n",
       "      <td id=\"T_48513_row7_col0\" class=\"data row7 col0\" >1.2069</td>\n",
       "      <td id=\"T_48513_row7_col1\" class=\"data row7 col1\" >2.2343</td>\n",
       "      <td id=\"T_48513_row7_col2\" class=\"data row7 col2\" >1.4948</td>\n",
       "      <td id=\"T_48513_row7_col3\" class=\"data row7 col3\" >0.0071</td>\n",
       "      <td id=\"T_48513_row7_col4\" class=\"data row7 col4\" >0.6492</td>\n",
       "      <td id=\"T_48513_row7_col5\" class=\"data row7 col5\" >14.1026</td>\n",
       "    </tr>\n",
       "    <tr>\n",
       "      <th id=\"T_48513_level0_row8\" class=\"row_heading level0 row8\" >8</th>\n",
       "      <td id=\"T_48513_row8_col0\" class=\"data row8 col0\" >1.2062</td>\n",
       "      <td id=\"T_48513_row8_col1\" class=\"data row8 col1\" >2.2324</td>\n",
       "      <td id=\"T_48513_row8_col2\" class=\"data row8 col2\" >1.4941</td>\n",
       "      <td id=\"T_48513_row8_col3\" class=\"data row8 col3\" >0.0070</td>\n",
       "      <td id=\"T_48513_row8_col4\" class=\"data row8 col4\" >0.6485</td>\n",
       "      <td id=\"T_48513_row8_col5\" class=\"data row8 col5\" >15.6211</td>\n",
       "    </tr>\n",
       "    <tr>\n",
       "      <th id=\"T_48513_level0_row9\" class=\"row_heading level0 row9\" >9</th>\n",
       "      <td id=\"T_48513_row9_col0\" class=\"data row9 col0\" >1.2120</td>\n",
       "      <td id=\"T_48513_row9_col1\" class=\"data row9 col1\" >2.2714</td>\n",
       "      <td id=\"T_48513_row9_col2\" class=\"data row9 col2\" >1.5071</td>\n",
       "      <td id=\"T_48513_row9_col3\" class=\"data row9 col3\" >0.0074</td>\n",
       "      <td id=\"T_48513_row9_col4\" class=\"data row9 col4\" >0.6501</td>\n",
       "      <td id=\"T_48513_row9_col5\" class=\"data row9 col5\" >16.3477</td>\n",
       "    </tr>\n",
       "    <tr>\n",
       "      <th id=\"T_48513_level0_row10\" class=\"row_heading level0 row10\" >Mean</th>\n",
       "      <td id=\"T_48513_row10_col0\" class=\"data row10 col0\" >1.2081</td>\n",
       "      <td id=\"T_48513_row10_col1\" class=\"data row10 col1\" >2.2446</td>\n",
       "      <td id=\"T_48513_row10_col2\" class=\"data row10 col2\" >1.4982</td>\n",
       "      <td id=\"T_48513_row10_col3\" class=\"data row10 col3\" >0.0071</td>\n",
       "      <td id=\"T_48513_row10_col4\" class=\"data row10 col4\" >0.6496</td>\n",
       "      <td id=\"T_48513_row10_col5\" class=\"data row10 col5\" >15.2116</td>\n",
       "    </tr>\n",
       "    <tr>\n",
       "      <th id=\"T_48513_level0_row11\" class=\"row_heading level0 row11\" >Std</th>\n",
       "      <td id=\"T_48513_row11_col0\" class=\"data row11 col0\" >0.0033</td>\n",
       "      <td id=\"T_48513_row11_col1\" class=\"data row11 col1\" >0.0204</td>\n",
       "      <td id=\"T_48513_row11_col2\" class=\"data row11 col2\" >0.0068</td>\n",
       "      <td id=\"T_48513_row11_col3\" class=\"data row11 col3\" >0.0006</td>\n",
       "      <td id=\"T_48513_row11_col4\" class=\"data row11 col4\" >0.0007</td>\n",
       "      <td id=\"T_48513_row11_col5\" class=\"data row11 col5\" >1.0935</td>\n",
       "    </tr>\n",
       "  </tbody>\n",
       "</table>\n"
      ],
      "text/plain": [
       "<pandas.io.formats.style.Styler at 0x164baf220>"
      ]
     },
     "metadata": {},
     "output_type": "display_data"
    },
    {
     "data": {
      "text/html": [],
      "text/plain": [
       "<IPython.core.display.HTML object>"
      ]
     },
     "metadata": {},
     "output_type": "display_data"
    },
    {
     "data": {
      "text/html": [],
      "text/plain": [
       "<IPython.core.display.HTML object>"
      ]
     },
     "metadata": {},
     "output_type": "display_data"
    },
    {
     "data": {
      "text/html": [
       "<style type=\"text/css\">\n",
       "#T_ef63b_row10_col0, #T_ef63b_row10_col1, #T_ef63b_row10_col2, #T_ef63b_row10_col3, #T_ef63b_row10_col4, #T_ef63b_row10_col5 {\n",
       "  background: yellow;\n",
       "}\n",
       "</style>\n",
       "<table id=\"T_ef63b\">\n",
       "  <thead>\n",
       "    <tr>\n",
       "      <th class=\"blank level0\" >&nbsp;</th>\n",
       "      <th id=\"T_ef63b_level0_col0\" class=\"col_heading level0 col0\" >MAE</th>\n",
       "      <th id=\"T_ef63b_level0_col1\" class=\"col_heading level0 col1\" >MSE</th>\n",
       "      <th id=\"T_ef63b_level0_col2\" class=\"col_heading level0 col2\" >RMSE</th>\n",
       "      <th id=\"T_ef63b_level0_col3\" class=\"col_heading level0 col3\" >R2</th>\n",
       "      <th id=\"T_ef63b_level0_col4\" class=\"col_heading level0 col4\" >RMSLE</th>\n",
       "      <th id=\"T_ef63b_level0_col5\" class=\"col_heading level0 col5\" >MAPE</th>\n",
       "    </tr>\n",
       "    <tr>\n",
       "      <th class=\"index_name level0\" >Fold</th>\n",
       "      <th class=\"blank col0\" >&nbsp;</th>\n",
       "      <th class=\"blank col1\" >&nbsp;</th>\n",
       "      <th class=\"blank col2\" >&nbsp;</th>\n",
       "      <th class=\"blank col3\" >&nbsp;</th>\n",
       "      <th class=\"blank col4\" >&nbsp;</th>\n",
       "      <th class=\"blank col5\" >&nbsp;</th>\n",
       "    </tr>\n",
       "  </thead>\n",
       "  <tbody>\n",
       "    <tr>\n",
       "      <th id=\"T_ef63b_level0_row0\" class=\"row_heading level0 row0\" >0</th>\n",
       "      <td id=\"T_ef63b_row0_col0\" class=\"data row0 col0\" >1.2572</td>\n",
       "      <td id=\"T_ef63b_row0_col1\" class=\"data row0 col1\" >2.6136</td>\n",
       "      <td id=\"T_ef63b_row0_col2\" class=\"data row0 col2\" >1.6167</td>\n",
       "      <td id=\"T_ef63b_row0_col3\" class=\"data row0 col3\" >-0.1684</td>\n",
       "      <td id=\"T_ef63b_row0_col4\" class=\"data row0 col4\" >0.7053</td>\n",
       "      <td id=\"T_ef63b_row0_col5\" class=\"data row0 col5\" >15.5593</td>\n",
       "    </tr>\n",
       "    <tr>\n",
       "      <th id=\"T_ef63b_level0_row1\" class=\"row_heading level0 row1\" >1</th>\n",
       "      <td id=\"T_ef63b_row1_col0\" class=\"data row1 col0\" >1.2670</td>\n",
       "      <td id=\"T_ef63b_row1_col1\" class=\"data row1 col1\" >2.6764</td>\n",
       "      <td id=\"T_ef63b_row1_col2\" class=\"data row1 col2\" >1.6360</td>\n",
       "      <td id=\"T_ef63b_row1_col3\" class=\"data row1 col3\" >-0.1694</td>\n",
       "      <td id=\"T_ef63b_row1_col4\" class=\"data row1 col4\" >0.7078</td>\n",
       "      <td id=\"T_ef63b_row1_col5\" class=\"data row1 col5\" >12.3676</td>\n",
       "    </tr>\n",
       "    <tr>\n",
       "      <th id=\"T_ef63b_level0_row2\" class=\"row_heading level0 row2\" >2</th>\n",
       "      <td id=\"T_ef63b_row2_col0\" class=\"data row2 col0\" >1.2679</td>\n",
       "      <td id=\"T_ef63b_row2_col1\" class=\"data row2 col1\" >2.6724</td>\n",
       "      <td id=\"T_ef63b_row2_col2\" class=\"data row2 col2\" >1.6348</td>\n",
       "      <td id=\"T_ef63b_row2_col3\" class=\"data row2 col3\" >-0.1684</td>\n",
       "      <td id=\"T_ef63b_row2_col4\" class=\"data row2 col4\" >0.7081</td>\n",
       "      <td id=\"T_ef63b_row2_col5\" class=\"data row2 col5\" >15.5933</td>\n",
       "    </tr>\n",
       "    <tr>\n",
       "      <th id=\"T_ef63b_level0_row3\" class=\"row_heading level0 row3\" >3</th>\n",
       "      <td id=\"T_ef63b_row3_col0\" class=\"data row3 col0\" >1.2644</td>\n",
       "      <td id=\"T_ef63b_row3_col1\" class=\"data row3 col1\" >2.6443</td>\n",
       "      <td id=\"T_ef63b_row3_col2\" class=\"data row3 col2\" >1.6261</td>\n",
       "      <td id=\"T_ef63b_row3_col3\" class=\"data row3 col3\" >-0.1700</td>\n",
       "      <td id=\"T_ef63b_row3_col4\" class=\"data row3 col4\" >0.7073</td>\n",
       "      <td id=\"T_ef63b_row3_col5\" class=\"data row3 col5\" >14.3440</td>\n",
       "    </tr>\n",
       "    <tr>\n",
       "      <th id=\"T_ef63b_level0_row4\" class=\"row_heading level0 row4\" >4</th>\n",
       "      <td id=\"T_ef63b_row4_col0\" class=\"data row4 col0\" >1.2558</td>\n",
       "      <td id=\"T_ef63b_row4_col1\" class=\"data row4 col1\" >2.6182</td>\n",
       "      <td id=\"T_ef63b_row4_col2\" class=\"data row4 col2\" >1.6181</td>\n",
       "      <td id=\"T_ef63b_row4_col3\" class=\"data row4 col3\" >-0.1750</td>\n",
       "      <td id=\"T_ef63b_row4_col4\" class=\"data row4 col4\" >0.7054</td>\n",
       "      <td id=\"T_ef63b_row4_col5\" class=\"data row4 col5\" >17.2784</td>\n",
       "    </tr>\n",
       "    <tr>\n",
       "      <th id=\"T_ef63b_level0_row5\" class=\"row_heading level0 row5\" >5</th>\n",
       "      <td id=\"T_ef63b_row5_col0\" class=\"data row5 col0\" >1.2592</td>\n",
       "      <td id=\"T_ef63b_row5_col1\" class=\"data row5 col1\" >2.6375</td>\n",
       "      <td id=\"T_ef63b_row5_col2\" class=\"data row5 col2\" >1.6241</td>\n",
       "      <td id=\"T_ef63b_row5_col3\" class=\"data row5 col3\" >-0.1708</td>\n",
       "      <td id=\"T_ef63b_row5_col4\" class=\"data row5 col4\" >0.7062</td>\n",
       "      <td id=\"T_ef63b_row5_col5\" class=\"data row5 col5\" >13.3743</td>\n",
       "    </tr>\n",
       "    <tr>\n",
       "      <th id=\"T_ef63b_level0_row6\" class=\"row_heading level0 row6\" >6</th>\n",
       "      <td id=\"T_ef63b_row6_col0\" class=\"data row6 col0\" >1.2688</td>\n",
       "      <td id=\"T_ef63b_row6_col1\" class=\"data row6 col1\" >2.6688</td>\n",
       "      <td id=\"T_ef63b_row6_col2\" class=\"data row6 col2\" >1.6337</td>\n",
       "      <td id=\"T_ef63b_row6_col3\" class=\"data row6 col3\" >-0.1780</td>\n",
       "      <td id=\"T_ef63b_row6_col4\" class=\"data row6 col4\" >0.7090</td>\n",
       "      <td id=\"T_ef63b_row6_col5\" class=\"data row6 col5\" >13.5440</td>\n",
       "    </tr>\n",
       "    <tr>\n",
       "      <th id=\"T_ef63b_level0_row7\" class=\"row_heading level0 row7\" >7</th>\n",
       "      <td id=\"T_ef63b_row7_col0\" class=\"data row7 col0\" >1.2575</td>\n",
       "      <td id=\"T_ef63b_row7_col1\" class=\"data row7 col1\" >2.6203</td>\n",
       "      <td id=\"T_ef63b_row7_col2\" class=\"data row7 col2\" >1.6187</td>\n",
       "      <td id=\"T_ef63b_row7_col3\" class=\"data row7 col3\" >-0.1644</td>\n",
       "      <td id=\"T_ef63b_row7_col4\" class=\"data row7 col4\" >0.7042</td>\n",
       "      <td id=\"T_ef63b_row7_col5\" class=\"data row7 col5\" >11.9527</td>\n",
       "    </tr>\n",
       "    <tr>\n",
       "      <th id=\"T_ef63b_level0_row8\" class=\"row_heading level0 row8\" >8</th>\n",
       "      <td id=\"T_ef63b_row8_col0\" class=\"data row8 col0\" >1.2612</td>\n",
       "      <td id=\"T_ef63b_row8_col1\" class=\"data row8 col1\" >2.6313</td>\n",
       "      <td id=\"T_ef63b_row8_col2\" class=\"data row8 col2\" >1.6221</td>\n",
       "      <td id=\"T_ef63b_row8_col3\" class=\"data row8 col3\" >-0.1705</td>\n",
       "      <td id=\"T_ef63b_row8_col4\" class=\"data row8 col4\" >0.7056</td>\n",
       "      <td id=\"T_ef63b_row8_col5\" class=\"data row8 col5\" >15.2867</td>\n",
       "    </tr>\n",
       "    <tr>\n",
       "      <th id=\"T_ef63b_level0_row9\" class=\"row_heading level0 row9\" >9</th>\n",
       "      <td id=\"T_ef63b_row9_col0\" class=\"data row9 col0\" >1.2675</td>\n",
       "      <td id=\"T_ef63b_row9_col1\" class=\"data row9 col1\" >2.6710</td>\n",
       "      <td id=\"T_ef63b_row9_col2\" class=\"data row9 col2\" >1.6343</td>\n",
       "      <td id=\"T_ef63b_row9_col3\" class=\"data row9 col3\" >-0.1672</td>\n",
       "      <td id=\"T_ef63b_row9_col4\" class=\"data row9 col4\" >0.7069</td>\n",
       "      <td id=\"T_ef63b_row9_col5\" class=\"data row9 col5\" >15.7980</td>\n",
       "    </tr>\n",
       "    <tr>\n",
       "      <th id=\"T_ef63b_level0_row10\" class=\"row_heading level0 row10\" >Mean</th>\n",
       "      <td id=\"T_ef63b_row10_col0\" class=\"data row10 col0\" >1.2627</td>\n",
       "      <td id=\"T_ef63b_row10_col1\" class=\"data row10 col1\" >2.6454</td>\n",
       "      <td id=\"T_ef63b_row10_col2\" class=\"data row10 col2\" >1.6265</td>\n",
       "      <td id=\"T_ef63b_row10_col3\" class=\"data row10 col3\" >-0.1702</td>\n",
       "      <td id=\"T_ef63b_row10_col4\" class=\"data row10 col4\" >0.7066</td>\n",
       "      <td id=\"T_ef63b_row10_col5\" class=\"data row10 col5\" >14.5098</td>\n",
       "    </tr>\n",
       "    <tr>\n",
       "      <th id=\"T_ef63b_level0_row11\" class=\"row_heading level0 row11\" >Std</th>\n",
       "      <td id=\"T_ef63b_row11_col0\" class=\"data row11 col0\" >0.0048</td>\n",
       "      <td id=\"T_ef63b_row11_col1\" class=\"data row11 col1\" >0.0235</td>\n",
       "      <td id=\"T_ef63b_row11_col2\" class=\"data row11 col2\" >0.0072</td>\n",
       "      <td id=\"T_ef63b_row11_col3\" class=\"data row11 col3\" >0.0037</td>\n",
       "      <td id=\"T_ef63b_row11_col4\" class=\"data row11 col4\" >0.0014</td>\n",
       "      <td id=\"T_ef63b_row11_col5\" class=\"data row11 col5\" >1.5994</td>\n",
       "    </tr>\n",
       "  </tbody>\n",
       "</table>\n"
      ],
      "text/plain": [
       "<pandas.io.formats.style.Styler at 0x163a53f40>"
      ]
     },
     "metadata": {},
     "output_type": "display_data"
    },
    {
     "data": {
      "text/html": [],
      "text/plain": [
       "<IPython.core.display.HTML object>"
      ]
     },
     "metadata": {},
     "output_type": "display_data"
    }
   ],
   "source": [
    "lr = create_model('lr')\n",
    "dt = create_model('dt')"
   ]
  },
  {
   "cell_type": "markdown",
   "id": "9a54f9fe",
   "metadata": {},
   "source": [
    "### Tune model"
   ]
  },
  {
   "cell_type": "markdown",
   "id": "622efc2f",
   "metadata": {},
   "source": [
    "tuned_model = tune_model(best, n_iter = 20, optimize = 'MAE')"
   ]
  },
  {
   "cell_type": "markdown",
   "id": "ed85b597",
   "metadata": {},
   "source": [
    "### Blending model"
   ]
  },
  {
   "cell_type": "code",
   "execution_count": 37,
   "id": "cceea4df",
   "metadata": {},
   "outputs": [
    {
     "data": {
      "text/html": [],
      "text/plain": [
       "<IPython.core.display.HTML object>"
      ]
     },
     "metadata": {},
     "output_type": "display_data"
    },
    {
     "data": {
      "text/html": [
       "<style type=\"text/css\">\n",
       "#T_c0015_row3_col0, #T_c0015_row3_col1, #T_c0015_row3_col2, #T_c0015_row3_col3, #T_c0015_row3_col4, #T_c0015_row3_col5 {\n",
       "  background: yellow;\n",
       "}\n",
       "</style>\n",
       "<table id=\"T_c0015\">\n",
       "  <thead>\n",
       "    <tr>\n",
       "      <th class=\"blank level0\" >&nbsp;</th>\n",
       "      <th id=\"T_c0015_level0_col0\" class=\"col_heading level0 col0\" >MAE</th>\n",
       "      <th id=\"T_c0015_level0_col1\" class=\"col_heading level0 col1\" >MSE</th>\n",
       "      <th id=\"T_c0015_level0_col2\" class=\"col_heading level0 col2\" >RMSE</th>\n",
       "      <th id=\"T_c0015_level0_col3\" class=\"col_heading level0 col3\" >R2</th>\n",
       "      <th id=\"T_c0015_level0_col4\" class=\"col_heading level0 col4\" >RMSLE</th>\n",
       "      <th id=\"T_c0015_level0_col5\" class=\"col_heading level0 col5\" >MAPE</th>\n",
       "    </tr>\n",
       "    <tr>\n",
       "      <th class=\"index_name level0\" >Fold</th>\n",
       "      <th class=\"blank col0\" >&nbsp;</th>\n",
       "      <th class=\"blank col1\" >&nbsp;</th>\n",
       "      <th class=\"blank col2\" >&nbsp;</th>\n",
       "      <th class=\"blank col3\" >&nbsp;</th>\n",
       "      <th class=\"blank col4\" >&nbsp;</th>\n",
       "      <th class=\"blank col5\" >&nbsp;</th>\n",
       "    </tr>\n",
       "  </thead>\n",
       "  <tbody>\n",
       "    <tr>\n",
       "      <th id=\"T_c0015_level0_row0\" class=\"row_heading level0 row0\" >0</th>\n",
       "      <td id=\"T_c0015_row0_col0\" class=\"data row0 col0\" >1.2298</td>\n",
       "      <td id=\"T_c0015_row0_col1\" class=\"data row0 col1\" >2.3993</td>\n",
       "      <td id=\"T_c0015_row0_col2\" class=\"data row0 col2\" >1.5490</td>\n",
       "      <td id=\"T_c0015_row0_col3\" class=\"data row0 col3\" >-0.0578</td>\n",
       "      <td id=\"T_c0015_row0_col4\" class=\"data row0 col4\" >0.6692</td>\n",
       "      <td id=\"T_c0015_row0_col5\" class=\"data row0 col5\" >15.6101</td>\n",
       "    </tr>\n",
       "    <tr>\n",
       "      <th id=\"T_c0015_level0_row1\" class=\"row_heading level0 row1\" >1</th>\n",
       "      <td id=\"T_c0015_row1_col0\" class=\"data row1 col0\" >1.2268</td>\n",
       "      <td id=\"T_c0015_row1_col1\" class=\"data row1 col1\" >2.3823</td>\n",
       "      <td id=\"T_c0015_row1_col2\" class=\"data row1 col2\" >1.5435</td>\n",
       "      <td id=\"T_c0015_row1_col3\" class=\"data row1 col3\" >-0.0589</td>\n",
       "      <td id=\"T_c0015_row1_col4\" class=\"data row1 col4\" >0.6685</td>\n",
       "      <td id=\"T_c0015_row1_col5\" class=\"data row1 col5\" >14.7248</td>\n",
       "    </tr>\n",
       "    <tr>\n",
       "      <th id=\"T_c0015_level0_row2\" class=\"row_heading level0 row2\" >2</th>\n",
       "      <td id=\"T_c0015_row2_col0\" class=\"data row2 col0\" >1.2282</td>\n",
       "      <td id=\"T_c0015_row2_col1\" class=\"data row2 col1\" >2.3925</td>\n",
       "      <td id=\"T_c0015_row2_col2\" class=\"data row2 col2\" >1.5468</td>\n",
       "      <td id=\"T_c0015_row2_col3\" class=\"data row2 col3\" >-0.0567</td>\n",
       "      <td id=\"T_c0015_row2_col4\" class=\"data row2 col4\" >0.6680</td>\n",
       "      <td id=\"T_c0015_row2_col5\" class=\"data row2 col5\" >14.6943</td>\n",
       "    </tr>\n",
       "    <tr>\n",
       "      <th id=\"T_c0015_level0_row3\" class=\"row_heading level0 row3\" >Mean</th>\n",
       "      <td id=\"T_c0015_row3_col0\" class=\"data row3 col0\" >1.2283</td>\n",
       "      <td id=\"T_c0015_row3_col1\" class=\"data row3 col1\" >2.3914</td>\n",
       "      <td id=\"T_c0015_row3_col2\" class=\"data row3 col2\" >1.5464</td>\n",
       "      <td id=\"T_c0015_row3_col3\" class=\"data row3 col3\" >-0.0578</td>\n",
       "      <td id=\"T_c0015_row3_col4\" class=\"data row3 col4\" >0.6686</td>\n",
       "      <td id=\"T_c0015_row3_col5\" class=\"data row3 col5\" >15.0097</td>\n",
       "    </tr>\n",
       "    <tr>\n",
       "      <th id=\"T_c0015_level0_row4\" class=\"row_heading level0 row4\" >Std</th>\n",
       "      <td id=\"T_c0015_row4_col0\" class=\"data row4 col0\" >0.0012</td>\n",
       "      <td id=\"T_c0015_row4_col1\" class=\"data row4 col1\" >0.0070</td>\n",
       "      <td id=\"T_c0015_row4_col2\" class=\"data row4 col2\" >0.0023</td>\n",
       "      <td id=\"T_c0015_row4_col3\" class=\"data row4 col3\" >0.0009</td>\n",
       "      <td id=\"T_c0015_row4_col4\" class=\"data row4 col4\" >0.0005</td>\n",
       "      <td id=\"T_c0015_row4_col5\" class=\"data row4 col5\" >0.4247</td>\n",
       "    </tr>\n",
       "  </tbody>\n",
       "</table>\n"
      ],
      "text/plain": [
       "<pandas.io.formats.style.Styler at 0x1642b45e0>"
      ]
     },
     "metadata": {},
     "output_type": "display_data"
    },
    {
     "data": {
      "text/html": [],
      "text/plain": [
       "<IPython.core.display.HTML object>"
      ]
     },
     "metadata": {},
     "output_type": "display_data"
    }
   ],
   "source": [
    "blend1 = blend_models(estimator_list = [lr, dt],fold=3)"
   ]
  },
  {
   "cell_type": "markdown",
   "id": "9ed7cd79",
   "metadata": {},
   "source": [
    "### Ensemble model"
   ]
  },
  {
   "cell_type": "code",
   "execution_count": 38,
   "id": "6ebcb7ee",
   "metadata": {
    "scrolled": true
   },
   "outputs": [
    {
     "data": {
      "text/html": [],
      "text/plain": [
       "<IPython.core.display.HTML object>"
      ]
     },
     "metadata": {},
     "output_type": "display_data"
    },
    {
     "data": {
      "text/html": [
       "<style type=\"text/css\">\n",
       "#T_5a5f9_row3_col0, #T_5a5f9_row3_col1, #T_5a5f9_row3_col2, #T_5a5f9_row3_col3, #T_5a5f9_row3_col4, #T_5a5f9_row3_col5 {\n",
       "  background: yellow;\n",
       "}\n",
       "</style>\n",
       "<table id=\"T_5a5f9\">\n",
       "  <thead>\n",
       "    <tr>\n",
       "      <th class=\"blank level0\" >&nbsp;</th>\n",
       "      <th id=\"T_5a5f9_level0_col0\" class=\"col_heading level0 col0\" >MAE</th>\n",
       "      <th id=\"T_5a5f9_level0_col1\" class=\"col_heading level0 col1\" >MSE</th>\n",
       "      <th id=\"T_5a5f9_level0_col2\" class=\"col_heading level0 col2\" >RMSE</th>\n",
       "      <th id=\"T_5a5f9_level0_col3\" class=\"col_heading level0 col3\" >R2</th>\n",
       "      <th id=\"T_5a5f9_level0_col4\" class=\"col_heading level0 col4\" >RMSLE</th>\n",
       "      <th id=\"T_5a5f9_level0_col5\" class=\"col_heading level0 col5\" >MAPE</th>\n",
       "    </tr>\n",
       "    <tr>\n",
       "      <th class=\"index_name level0\" >Fold</th>\n",
       "      <th class=\"blank col0\" >&nbsp;</th>\n",
       "      <th class=\"blank col1\" >&nbsp;</th>\n",
       "      <th class=\"blank col2\" >&nbsp;</th>\n",
       "      <th class=\"blank col3\" >&nbsp;</th>\n",
       "      <th class=\"blank col4\" >&nbsp;</th>\n",
       "      <th class=\"blank col5\" >&nbsp;</th>\n",
       "    </tr>\n",
       "  </thead>\n",
       "  <tbody>\n",
       "    <tr>\n",
       "      <th id=\"T_5a5f9_level0_row0\" class=\"row_heading level0 row0\" >0</th>\n",
       "      <td id=\"T_5a5f9_row0_col0\" class=\"data row0 col0\" >1.2764</td>\n",
       "      <td id=\"T_5a5f9_row0_col1\" class=\"data row0 col1\" >2.7582</td>\n",
       "      <td id=\"T_5a5f9_row0_col2\" class=\"data row0 col2\" >1.6608</td>\n",
       "      <td id=\"T_5a5f9_row0_col3\" class=\"data row0 col3\" >-0.2160</td>\n",
       "      <td id=\"T_5a5f9_row0_col4\" class=\"data row0 col4\" >0.7183</td>\n",
       "      <td id=\"T_5a5f9_row0_col5\" class=\"data row0 col5\" >15.0171</td>\n",
       "    </tr>\n",
       "    <tr>\n",
       "      <th id=\"T_5a5f9_level0_row1\" class=\"row_heading level0 row1\" >1</th>\n",
       "      <td id=\"T_5a5f9_row1_col0\" class=\"data row1 col0\" >1.2753</td>\n",
       "      <td id=\"T_5a5f9_row1_col1\" class=\"data row1 col1\" >2.7545</td>\n",
       "      <td id=\"T_5a5f9_row1_col2\" class=\"data row1 col2\" >1.6597</td>\n",
       "      <td id=\"T_5a5f9_row1_col3\" class=\"data row1 col3\" >-0.2244</td>\n",
       "      <td id=\"T_5a5f9_row1_col4\" class=\"data row1 col4\" >0.7182</td>\n",
       "      <td id=\"T_5a5f9_row1_col5\" class=\"data row1 col5\" >14.8193</td>\n",
       "    </tr>\n",
       "    <tr>\n",
       "      <th id=\"T_5a5f9_level0_row2\" class=\"row_heading level0 row2\" >2</th>\n",
       "      <td id=\"T_5a5f9_row2_col0\" class=\"data row2 col0\" >1.2745</td>\n",
       "      <td id=\"T_5a5f9_row2_col1\" class=\"data row2 col1\" >2.7481</td>\n",
       "      <td id=\"T_5a5f9_row2_col2\" class=\"data row2 col2\" >1.6577</td>\n",
       "      <td id=\"T_5a5f9_row2_col3\" class=\"data row2 col3\" >-0.2138</td>\n",
       "      <td id=\"T_5a5f9_row2_col4\" class=\"data row2 col4\" >0.7168</td>\n",
       "      <td id=\"T_5a5f9_row2_col5\" class=\"data row2 col5\" >14.3727</td>\n",
       "    </tr>\n",
       "    <tr>\n",
       "      <th id=\"T_5a5f9_level0_row3\" class=\"row_heading level0 row3\" >Mean</th>\n",
       "      <td id=\"T_5a5f9_row3_col0\" class=\"data row3 col0\" >1.2754</td>\n",
       "      <td id=\"T_5a5f9_row3_col1\" class=\"data row3 col1\" >2.7536</td>\n",
       "      <td id=\"T_5a5f9_row3_col2\" class=\"data row3 col2\" >1.6594</td>\n",
       "      <td id=\"T_5a5f9_row3_col3\" class=\"data row3 col3\" >-0.2181</td>\n",
       "      <td id=\"T_5a5f9_row3_col4\" class=\"data row3 col4\" >0.7178</td>\n",
       "      <td id=\"T_5a5f9_row3_col5\" class=\"data row3 col5\" >14.7364</td>\n",
       "    </tr>\n",
       "    <tr>\n",
       "      <th id=\"T_5a5f9_level0_row4\" class=\"row_heading level0 row4\" >Std</th>\n",
       "      <td id=\"T_5a5f9_row4_col0\" class=\"data row4 col0\" >0.0008</td>\n",
       "      <td id=\"T_5a5f9_row4_col1\" class=\"data row4 col1\" >0.0042</td>\n",
       "      <td id=\"T_5a5f9_row4_col2\" class=\"data row4 col2\" >0.0013</td>\n",
       "      <td id=\"T_5a5f9_row4_col3\" class=\"data row4 col3\" >0.0046</td>\n",
       "      <td id=\"T_5a5f9_row4_col4\" class=\"data row4 col4\" >0.0007</td>\n",
       "      <td id=\"T_5a5f9_row4_col5\" class=\"data row4 col5\" >0.2695</td>\n",
       "    </tr>\n",
       "  </tbody>\n",
       "</table>\n"
      ],
      "text/plain": [
       "<pandas.io.formats.style.Styler at 0x16125b190>"
      ]
     },
     "metadata": {},
     "output_type": "display_data"
    },
    {
     "data": {
      "text/html": [],
      "text/plain": [
       "<IPython.core.display.HTML object>"
      ]
     },
     "metadata": {},
     "output_type": "display_data"
    }
   ],
   "source": [
    "ensembled_model1 = ensemble_model(dt, fold=3) #Bagging\n",
    "#ensembled_model2 = ensemble_model(dt, method='Boosting', fold=3) #Boosting"
   ]
  },
  {
   "cell_type": "code",
   "execution_count": 39,
   "id": "c698e535",
   "metadata": {},
   "outputs": [],
   "source": [
    "final_model = finalize_model(blend1)"
   ]
  },
  {
   "cell_type": "code",
   "execution_count": 44,
   "id": "afab504d",
   "metadata": {},
   "outputs": [
    {
     "data": {
      "text/html": [
       "<style type=\"text/css\">\n",
       "</style>\n",
       "<table id=\"T_43da2\">\n",
       "  <thead>\n",
       "    <tr>\n",
       "      <th class=\"blank level0\" >&nbsp;</th>\n",
       "      <th id=\"T_43da2_level0_col0\" class=\"col_heading level0 col0\" >Model</th>\n",
       "      <th id=\"T_43da2_level0_col1\" class=\"col_heading level0 col1\" >MAE</th>\n",
       "      <th id=\"T_43da2_level0_col2\" class=\"col_heading level0 col2\" >MSE</th>\n",
       "      <th id=\"T_43da2_level0_col3\" class=\"col_heading level0 col3\" >RMSE</th>\n",
       "      <th id=\"T_43da2_level0_col4\" class=\"col_heading level0 col4\" >R2</th>\n",
       "      <th id=\"T_43da2_level0_col5\" class=\"col_heading level0 col5\" >RMSLE</th>\n",
       "      <th id=\"T_43da2_level0_col6\" class=\"col_heading level0 col6\" >MAPE</th>\n",
       "    </tr>\n",
       "  </thead>\n",
       "  <tbody>\n",
       "    <tr>\n",
       "      <th id=\"T_43da2_level0_row0\" class=\"row_heading level0 row0\" >0</th>\n",
       "      <td id=\"T_43da2_row0_col0\" class=\"data row0 col0\" >Voting Regressor</td>\n",
       "      <td id=\"T_43da2_row0_col1\" class=\"data row0 col1\" >1.1888</td>\n",
       "      <td id=\"T_43da2_row0_col2\" class=\"data row0 col2\" >2.2040</td>\n",
       "      <td id=\"T_43da2_row0_col3\" class=\"data row0 col3\" >1.4846</td>\n",
       "      <td id=\"T_43da2_row0_col4\" class=\"data row0 col4\" >0.0273</td>\n",
       "      <td id=\"T_43da2_row0_col5\" class=\"data row0 col5\" >0.6425</td>\n",
       "      <td id=\"T_43da2_row0_col6\" class=\"data row0 col6\" >13.4030</td>\n",
       "    </tr>\n",
       "  </tbody>\n",
       "</table>\n"
      ],
      "text/plain": [
       "<pandas.io.formats.style.Styler at 0x2869030a0>"
      ]
     },
     "metadata": {},
     "output_type": "display_data"
    }
   ],
   "source": [
    "prediction = predict_model(final_model, data = test)"
   ]
  },
  {
   "cell_type": "code",
   "execution_count": null,
   "id": "40bcbf8d",
   "metadata": {},
   "outputs": [],
   "source": []
  }
 ],
 "metadata": {
  "kernelspec": {
   "display_name": "Python 3 (ipykernel)",
   "language": "python",
   "name": "python3"
  },
  "language_info": {
   "codemirror_mode": {
    "name": "ipython",
    "version": 3
   },
   "file_extension": ".py",
   "mimetype": "text/x-python",
   "name": "python",
   "nbconvert_exporter": "python",
   "pygments_lexer": "ipython3",
   "version": "3.9.15"
  }
 },
 "nbformat": 4,
 "nbformat_minor": 5
}
